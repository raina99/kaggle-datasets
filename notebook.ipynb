{
  "nbformat_minor": 1,
  "metadata": {
    "kernelspec": {
      "display_name": "R",
      "language": "R",
      "name": "ir"
    },
    "language_info": {
      "name": "R",
      "codemirror_mode": "r",
      "pygments_lexer": "r",
      "mimetype": "text/x-r-source",
      "version": "3.4.1",
      "file_extension": ".r"
    }
  },
  "nbformat": 4,
  "cells": [
    {
      "cell_type": "code",
      "metadata": {
        "_uuid": "bbbee5bb6ece42c799a074b330adce384d2f0eb4",
        "_cell_guid": "e41add74-bf45-4310-9612-36424e168d46"
      },
      "execution_count": null,
      "source": [
        "## loading libraries \n",
        "\n",
        "library(rjson)\n",
        "library(jsonlite)\n",
        "library(readr)\n",
        "library(ggplot2) \n",
        "library(readr) \n",
        "\n",
        "## reading train, test and sample submission files\n",
        "train = fromJSON(\"../input/randompizza/train.json\")\n",
        "test = fromJSON(\"../input/randompizza/test.json\")\n",
        "sample_sub = read.csv( \"../input/randompizza/sampleSubmission (1).csv\")\n"
      ],
      "outputs": []
    },
    {
      "cell_type": "code",
      "metadata": {
        "_uuid": "06b217cea205b37a04eb8761822fd6f7a6954873",
        "_cell_guid": "256f1cc0-52f6-425b-95d2-9478f4ad6c67"
      },
      "execution_count": null,
      "source": [
        "# Data exploration \n",
        "names(train)\n",
        "names(test)\n",
        "# train dataset having a lot of columns and test having few of them\n"
      ],
      "outputs": []
    },
    {
      "cell_type": "code",
      "metadata": {
        "_kg_hide-output": false,
        "_kg_hide-input": false,
        "_uuid": "6cb387b02467ba33f98222c8e376a7223c919f63",
        "_cell_guid": "79d7c3e5-ebc9-4424-ab15-32d30868d1ee"
      },
      "execution_count": null,
      "source": [
        "##univariate and multivariate analysis \n",
        "library(ggplot2)\n",
        "ggplot(data = train, mapping = aes(y =requester_received_pizza, x = requester_number_of_posts_on_raop_at_retrieval))+\n",
        "   geom_jitter()\n",
        "\n",
        "## majority of people getting rejected and accepted in getting pizza have starting values in \n",
        "# number of posts at retreival"
      ],
      "outputs": []
    },
    {
      "cell_type": "code",
      "metadata": {
        "_uuid": "eba81649939f45f18aa777b0d4b36a2e50ffeefc",
        "_cell_guid": "1271ab28-8e89-4571-bd4f-5e96226f8375"
      },
      "execution_count": null,
      "source": [
        "ggplot(data = train, mapping = aes(y =requester_received_pizza, x =requester_number_of_comments_at_request))+\n",
        "   geom_jitter()\n",
        "\n",
        "ggplot(data = train, mapping = aes(y =requester_received_pizza, x =requester_number_of_comments_at_retrieval))+\n",
        "   geom_jitter()\n",
        "\n",
        "## frequency high during starting and ending "
      ],
      "outputs": []
    },
    {
      "cell_type": "code",
      "metadata": {
        "_uuid": "0237f3912dc6fc26b34c47fe2d7c6d4f9a48d9ef",
        "_cell_guid": "5e6f7eec-4c44-4220-9373-2da8dd4d1d84"
      },
      "execution_count": null,
      "source": [
        "ggplot(data = train, mapping = aes( y =requester_upvotes_minus_downvotes_at_request , x = requester_upvotes_plus_downvotes_at_request))+\n",
        "  geom_point(mapping = aes(color = requester_received_pizza))\n"
      ],
      "outputs": []
    },
    {
      "cell_type": "code",
      "metadata": {
        "_uuid": "fcf34178455012eeafba1f6a98d438d158fb1638",
        "_cell_guid": "908c4b94-c8a8-4bb5-a0f7-d223602cbf8d"
      },
      "execution_count": null,
      "source": [
        "ggplot(data = train, mapping = aes( y =requester_upvotes_minus_downvotes_at_retrieval , x = requester_upvotes_plus_downvotes_at_retrieval))+\n",
        "  geom_point(mapping = aes(color = requester_received_pizza))"
      ],
      "outputs": []
    },
    {
      "cell_type": "code",
      "metadata": {
        "_uuid": "155ebd4127d9eca06b3b1deefaf55dc7678485b6",
        "_cell_guid": "7610c2e3-0189-448b-8a15-6d37b3e2af46"
      },
      "execution_count": null,
      "source": [
        "## wordclouds\n",
        "library(tm)\n",
        "library(methods)\n",
        "library(RColorBrewer)\n",
        "library(wordcloud)\n",
        "##\n",
        "make_word_cloud <- function(documents) {\n",
        "  corpus = Corpus(VectorSource(tolower(documents)))\n",
        "  corpus = tm_map(corpus, removePunctuation)\n",
        "  corpus = tm_map(corpus, removeWords, stopwords(\"english\"))\n",
        "  \n",
        "  frequencies = DocumentTermMatrix(corpus)\n",
        "  word_frequencies = as.data.frame(as.matrix(frequencies))\n",
        "  \n",
        "  words <- colnames(word_frequencies)\n",
        "  freq <- colSums(word_frequencies)\n",
        "  wordcloud(words, freq,\n",
        "            min.freq=sort(freq, decreasing=TRUE)[[200]],\n",
        "            colors=brewer.pal(8, \"Dark2\"),\n",
        "            random.color=TRUE)  \n",
        "}\n",
        "\n",
        "## 200 most common words\n",
        "make_word_cloud(train$request_title)\n"
      ],
      "outputs": []
    },
    {
      "cell_type": "code",
      "metadata": {
        "_uuid": "3512e53c79fa0abf20096ccca02d06437b4a3f49",
        "_cell_guid": "82d4ff40-b1b0-4f0d-aa9d-2ff422aeb1ea"
      },
      "execution_count": null,
      "source": [
        "make_word_cloud(train$request_text)\n"
      ],
      "outputs": []
    },
    {
      "cell_type": "code",
      "metadata": {
        "_uuid": "dff79ceeb43e4c2f8739f97753aada2fe09a99be",
        "_cell_guid": "a6a51c36-9cd8-47b5-b4d0-09fcbaa42b1b"
      },
      "execution_count": null,
      "source": [
        "make_word_cloud(train$request_text_edit_aware)\n"
      ],
      "outputs": []
    },
    {
      "cell_type": "code",
      "metadata": {
        "_uuid": "fdbb37cf34ff54425041753437d04fc2f5d42d43",
        "_cell_guid": "b5d2c149-c308-4fe7-8cb0-853c584db5ed"
      },
      "execution_count": null,
      "source": [
        "make_word_cloud(train$requester_subreddits_at_request)"
      ],
      "outputs": []
    },
    {
      "cell_type": "code",
      "metadata": {
        "_uuid": "8bf859410f0a12c84fb5666a694b1e94ea149cd2",
        "_cell_guid": "79a3327a-034b-400b-a675-dd3b99d2e1ba"
      },
      "execution_count": null,
      "source": [
        "# removing  text variables and variables absent from test data for  applying xgboost\n",
        "train = train[ ,c(10,12,14,16,18,20,22,23,25,27,31,32)]\n",
        "test = test[,-c(1,3,4,12,15)]\n",
        "# adding target variable to test data\n",
        "test$requester_received_pizza = 0\n",
        "class(train$requester_received_pizza)\n",
        "# converting class of target variable from logical to numeric\n",
        "train$requester_received_pizza = as.factor (as.numeric(train$requester_received_pizza))\n",
        "class(train$requester_received_pizza)"
      ],
      "outputs": []
    },
    {
      "cell_type": "code",
      "metadata": {
        "_uuid": "dd23d8e2d5b8c3acdbb2133e2e980af94daebe65",
        "_cell_guid": "450e902e-e618-48be-bb72-59852af886a4"
      },
      "execution_count": null,
      "source": [
        "## applying xgboost\n",
        "library(xgboost)\n",
        "library(Matrix)\n",
        "sparse_matrix <-sparse.model.matrix((requester_received_pizza)~.-1, data =train)\n",
        "unique(train$requester_received_pizza)\n",
        "## as factor converts values into 1 and 0 so taking 1 as yes\n",
        "output_vector = train[,8] == \"1\"\n",
        "# aplying xgboost keeping eval crieria to be auc and using random rounds\n",
        "bst3 <- xgboost(data = sparse_matrix, label = output_vector, max.depth = 4,\n",
        "               eta = 1, nthread = 2, nround = 10,objective = \"binary:logistic\", \n",
        "               eval_metric =\"auc\")\n",
        "\n",
        "\n",
        "importance <- xgb.importance(feature_names = sparse_matrix@Dimnames[[2]], model = bst3)\n",
        "#  gain is most important as it tells the the improvement in accuracy brought by features added to it\n",
        "# details here -http://xgboost.readthedocs.io/en/latest/R-package/discoverYourData.html\n",
        "head(importance)\n",
        "\n",
        "# plotting importance \n",
        "xgb.plot.importance(importance_matrix = importance)\n"
      ],
      "outputs": []
    },
    {
      "cell_type": "code",
      "metadata": {
        "_uuid": "dd953250432b5599e725b405f57dde07e1b699fc",
        "_cell_guid": "423e9422-9566-4718-a7c3-db86648a182d"
      },
      "execution_count": null,
      "source": [
        "#  giving predictions \n",
        "pre = predict(bst3, as.matrix(test[,-1]))\n",
        "solution3 = data.frame(request_id = test$request_id , requester_received_pizza= pre)\n",
        "write.csv(solution3, file = \"xgpizza3\", row.names = F)"
      ],
      "outputs": []
    },
    {
      "cell_type": "code",
      "metadata": {
        "_uuid": "a89d0891dafd81dba790bdc14b314f2c5dc4d698",
        "_cell_guid": "938101ac-cd9d-434a-95e8-cd8eec85d5a8"
      },
      "execution_count": null,
      "source": [
        "# Improving accuracy \n",
        "# using cross validation feature to improve accuracy taking best rounds\n",
        "bst <- xgb.cv(data = sparse_matrix, label = output_vector, max.depth = 4,\n",
        "eta = 1, nthread = 2, nfold = 10,nround = 200,objective = \"binary:logistic\",\n",
        "print_every_n = 10,early_stopping_rounds = 10,maximize = F, eval_metric  = \"auc\")\n",
        "##\n",
        "#running  cross validation multiple times gives you best rounds which you can further use to get better accuracy\n"
      ],
      "outputs": []
    },
    {
      "cell_type": "code",
      "metadata": {
        "_uuid": "abe63b3980413e095b50b789e45d157d5abd7953",
        "_cell_guid": "a2af7091-d0c1-47a1-8cac-d2c46356abc1"
      },
      "execution_count": null,
      "source": [
        "#"
      ],
      "outputs": []
    }
  ]
}